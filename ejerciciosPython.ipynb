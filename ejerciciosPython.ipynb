{
 "cells": [
  {
   "cell_type": "code",
   "execution_count": null,
   "metadata": {},
   "outputs": [],
   "source": [
    "nombre = input(\"¿Escribe tu Nombre y Apellido? \")\n",
    "saludo = (\"Buenos Dias\")\n",
    "\n",
    "print( saludo, nombre)\n"
   ]
  },
  {
   "cell_type": "code",
   "execution_count": null,
   "metadata": {},
   "outputs": [],
   "source": [
    "nombre = input(\"¿Escribe tu Nombre y Apellido? \")\n",
    "saludo = (\"Buenos Dias\")\n",
    "\n",
    "print( saludo, nombre)\n"
   ]
  },
  {
   "cell_type": "code",
   "execution_count": 1,
   "metadata": {},
   "outputs": [],
   "source": [
    "edad = int (input(\"Ingresa tu Edad\"))\n",
    "if edad>18:\n",
    "    print(\"Mayor de edad\")\n",
    "else:\n",
    "    print(\"Menor de edad\")\n"
   ]
  },
  {
   "cell_type": "code",
   "execution_count": 1,
   "metadata": {},
   "outputs": [],
   "source": [
    "Num = int (input(\"Ingresa un Numero\"))\n",
    "if Num % 2 == 0:\n",
    "    print(\"Es un numero par\")\n",
    "else:\n",
    "    print(\"Es un numero impar\")\n"
   ]
  }
 ],
 "metadata": {
  "kernelspec": {
   "display_name": "Python 3",
   "language": "python",
   "name": "python3"
  },
  "language_info": {
   "codemirror_mode": {
    "name": "ipython",
    "version": 3
   },
   "file_extension": ".py",
   "mimetype": "text/x-python",
   "name": "python",
   "nbconvert_exporter": "python",
   "pygments_lexer": "ipython3",
   "version": "3.12.5"
  }
 },
 "nbformat": 4,
 "nbformat_minor": 2
}
